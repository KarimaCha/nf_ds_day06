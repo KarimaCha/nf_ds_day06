{
 "cells": [
  {
   "cell_type": "markdown",
   "metadata": {},
   "source": [
    "# Instructions\n",
    "\n",
    "Today we're going to be taking a look at classes, and the OOP paradigm in general. The problems in this assignment are designed to help you develop an intuition for both why we like object oriented programming **and** when we want to use it. The first part of this assignment will revolve around taking a problem that has been solved with functions (which will be given to you) and turning it into a class. The second part will have you write a class from scratch, starting from the mindset of functions. The last part will give you a problem that has been solved with a class; however, it will be a poor choice of using OOP. Here, you'll blow up the class and move the code back into a solely functional programming paradigm. Hopefully this will give you an idea of problems that still ought to be solved with functions. \n",
    "\n",
    "# Assignment Questions\n",
    "\n",
    "### Part 1 - Functions to Class\n",
    "\n",
    "Imagine you are waiting tables. At the end of each night, you have to find all your bills, and total the amount that you will be tipped; this will depend on what a client decided, or 18% if they didn't specify. You always end up spending an extra 10 minutes at the end of your shift calculating how much you made in tips, and as a result you decide to write a Python script to help automate the task.\n",
    "\n",
    "After a little trial and error, you come up with the functions below. The `0.18` is for the standard tip your restaurant charges if none is specified.\n",
    "\n",
    "```python\n",
    "def get_tips(bills_n_tips):\n",
    "    return [bill * tip for bill, tip in bills_n_tips]\n",
    "\n",
    "def add_bill_update_tips(new_bill, bills_n_tips, tip_rate=0.18):\n",
    "    bills_n_tips.append((new_bill, tip_rate))\n",
    "    tip_out = sum(get_tips(bills_n_tips))\n",
    "    return tip_out\n",
    "```\n",
    "\n",
    "You then test them out with the following function. Who doesn't like well tested code??\n",
    "\n",
    "```python\n",
    "def test_tip_out():\n",
    "    waiter_bills_n_tips = []\n",
    "    print add_bill_update_tips(58.90, waiter_bills_n_tips, 0.15)\n",
    "    print add_bill_update_tips(31.58, waiter_bills_n_tips) \n",
    "    print add_bill_update_tips(81.44, waiter_bills_n_tips, 0.20)\n",
    "    print get_tips(waiter_bills_n_tips)\n",
    "    print len(waiter_bills_n_tips)\n",
    "```\n",
    "\n",
    "As everything appears to be working, you happily go to work and keep track of your tips. Everything works out, as expected. After all, you did your due diligence and tested your code. However, running the same function over and over (and having to make sure that you we're passing the correct things to your function while you were trying to work) quickly becomes a burden. In addition, some of your coworkers see what you were doing and want to try your code next time you work. You wonder to yourself if there is a simpler way to implement a solution to this problem, one where anyone could easily and intuitively use the program your wrote.\n",
    "\n",
    "Luckily, you learned about classes in Python recently and realize that this is a great situation to employ them! The first thing you do is sit down and think about how you'd want to use a class in this scenario. You want a class that allows you to track and get information about the status of your tips. Here's an example usage of the class you're going to build:\n",
    "\n",
    "```python\n",
    "tot = TipOutTracker(0.18)\n",
    "tot.add_bill(58.90, 0.15)\n",
    "tot.add_bill(31.58)\n",
    "print tot.total_tip_out()\n",
    "tot.add_bill(81.44, 0.20)\n",
    "print len(tot)\n",
    "```\n",
    "\n",
    "Here, when you get the length of your tracker, you are actually going to get the total number of bills you've served.\n",
    "\n",
    "With this in mind, your task is to take the code from the function solution of this problem and write a class `TipOutTracker`. This class will operate in the way shown above. You should be thinking about the following as you start solving this problem:\n",
    "\n",
    "* What are the attributes (data) that you are going to store on the class?\n",
    "    * What data is being abstracted away from the user of your class?\n",
    "* What are the methods (functions) that you are going to operate on the attributes with?\n",
    "    * What are the ways that a user of your class will be able to interact with the data it stores?"
   ]
  },
  {
   "cell_type": "code",
   "execution_count": 4,
   "metadata": {},
   "outputs": [],
   "source": [
    "def get_tips(bills_n_tips):\n",
    "    return [bill * tip for bill, tip in bills_n_tips]\n",
    "\n",
    "def add_bill_update_tips(new_bill, bills_n_tips, tip_rate=0.18):\n",
    "    bills_n_tips.append((new_bill, tip_rate))\n",
    "    tip_out = sum(get_tips(bills_n_tips))\n",
    "    return tip_out"
   ]
  },
  {
   "cell_type": "code",
   "execution_count": 5,
   "metadata": {},
   "outputs": [
    {
     "name": "stdout",
     "output_type": "stream",
     "text": [
      "8.834999999999999\n",
      "14.519399999999997\n",
      "30.807399999999998\n",
      "[8.834999999999999, 5.684399999999999, 16.288]\n",
      "3\n"
     ]
    }
   ],
   "source": [
    "def test_tip_out():\n",
    "    waiter_bills_n_tips = []\n",
    "    print(add_bill_update_tips(58.90, waiter_bills_n_tips, 0.15))\n",
    "    print(add_bill_update_tips(31.58, waiter_bills_n_tips))\n",
    "    print(add_bill_update_tips(81.44, waiter_bills_n_tips, 0.20))\n",
    "    print(get_tips(waiter_bills_n_tips))\n",
    "    print(len(waiter_bills_n_tips))\n",
    "    \n",
    "test_tip_out()"
   ]
  },
  {
   "cell_type": "code",
   "execution_count": 7,
   "metadata": {},
   "outputs": [],
   "source": [
    "# Example use of my class:\n",
    "\n",
    "# tot = TipOutTracker(0.18)\n",
    "# tot.add_bill(58.90, 0.15)\n",
    "# tot.add_bill(31.58)\n",
    "# print tot.total_tip_out()\n",
    "# tot.add_bill(81.44, 0.20)\n",
    "# print len(tot)"
   ]
  },
  {
   "cell_type": "code",
   "execution_count": 56,
   "metadata": {},
   "outputs": [],
   "source": [
    "# Create the class TipOutTracker:\n",
    "\n",
    "class TipOutTracker():\n",
    "    \n",
    "    def __init__(self, default_tip):\n",
    "        self.bills_n_tips = []\n",
    "        self.default_tip = default_tip\n",
    "        \n",
    "    def add_bill(self, bill, tip = None):\n",
    "        if tip == None:\n",
    "            tip = self.default_tip\n",
    "        self.bills_n_tips.append((bill, tip))\n",
    "        \n",
    "    def total_tip_out(self):\n",
    "        return sum([bill * tip for bill, tip in self.bills_n_tips])\n",
    "    \n",
    "    def __len__(self):\n",
    "        return len(self.bills_n_tips)"
   ]
  },
  {
   "cell_type": "code",
   "execution_count": 57,
   "metadata": {},
   "outputs": [
    {
     "data": {
      "text/plain": [
       "[(58.9, 0.15), (31.58, 0.18)]"
      ]
     },
     "execution_count": 57,
     "metadata": {},
     "output_type": "execute_result"
    }
   ],
   "source": [
    "# Test the TipOutTracker:\n",
    "\n",
    "tot = TipOutTracker(0.18)\n",
    "tot.add_bill(58.90, 0.15)\n",
    "tot.add_bill(31.58)\n",
    "tot.bills_n_tips"
   ]
  },
  {
   "cell_type": "code",
   "execution_count": 58,
   "metadata": {},
   "outputs": [
    {
     "name": "stdout",
     "output_type": "stream",
     "text": [
      "14.519399999999997\n"
     ]
    }
   ],
   "source": [
    "print(tot.total_tip_out())"
   ]
  },
  {
   "cell_type": "code",
   "execution_count": 59,
   "metadata": {},
   "outputs": [
    {
     "name": "stdout",
     "output_type": "stream",
     "text": [
      "2\n"
     ]
    },
    {
     "data": {
      "text/plain": [
       "2"
      ]
     },
     "execution_count": 59,
     "metadata": {},
     "output_type": "execute_result"
    }
   ],
   "source": [
    "print(len(tot))\n",
    "len(tot.bills_n_tips)"
   ]
  },
  {
   "cell_type": "markdown",
   "metadata": {
    "collapsed": true
   },
   "source": [
    "### Part 2 - Classes from Scratch\n",
    "\n",
    "Now that you have a little bit of practice working through a problem that takes moves functions into a class, you're going to get some practice solving a problem from scratch, using OOP.\n",
    "\n",
    "This time you are going to create a class that allows you to keep track of a to-do list. The kinds of things that we'd want to be able to do with a to-do list (no pun intended) are:\n",
    "\n",
    "* Add a to-do item.\n",
    "* Mark a to-do item as completed and remove it.\n",
    "* Have the length of the to-do list return the number of items you have to do.\n",
    "\n",
    "As you work through this problem, a good place to start is by thinking about how you'd want to use this class. If you were to be given a `ToDoList` class, how would you want to use it? Go ahead and write up a test case where you \"use\" the class that you're about to write. This will help get you into the mindset of how the class will actually work.\n",
    "\n",
    "With that in mind, you're going to want to answer the same questions that were posed before:\n",
    "\n",
    "* What are the attributes (data) that you are going to store on the class?\n",
    "* What are the methods (functions) that you are going to operate on the attributes with?\n",
    "\n",
    "Once you have an idea about the answers to these two questions, you'll be in a great place to start writing some code!"
   ]
  },
  {
   "cell_type": "code",
   "execution_count": 173,
   "metadata": {},
   "outputs": [],
   "source": [
    "# Option 1: with a simple list\n",
    "\n",
    "class ToDoList():\n",
    "    \n",
    "    def __init__(self):\n",
    "        self.to_do_list = []\n",
    "        \n",
    "    def add_item(self, item):\n",
    "        self.to_do_list.append(item)\n",
    "        \n",
    "    def remove_item(self, item):\n",
    "        if item in self.to_do_list:\n",
    "            self.to_do_list.remove(item)\n",
    "        else:\n",
    "            print('Item not in ToDo-list!')\n",
    "            \n",
    "    def __len__(self):\n",
    "        return len(self.to_do_list)"
   ]
  },
  {
   "cell_type": "code",
   "execution_count": 174,
   "metadata": {},
   "outputs": [],
   "source": [
    "# Option 2: with a dict that also tracks if tasks are done or not\n",
    "\n",
    "class ToDoList():\n",
    "    \n",
    "    def __init__(self):\n",
    "        self.to_do_list = {}   # key = item, value = done (True/False)\n",
    "        \n",
    "    def add_item(self, item):\n",
    "        self.to_do_list[item] = False\n",
    "        \n",
    "    def mark_as_done(self, item):\n",
    "        if item in self.to_do_list:\n",
    "            self.to_do_list[item] = True\n",
    "        else:\n",
    "            print('Item not in ToDo-list!')\n",
    "\n",
    "    def check_if_done(self, item):\n",
    "        if item in self.to_do_list:\n",
    "            done = self.to_do_list[item]\n",
    "            return done\n",
    "        else:\n",
    "            print('Item not in ToDo-list!')\n",
    "        \n",
    "    def remove_item(self, item):\n",
    "        if item in self.to_do_list:\n",
    "            del self.to_do_list[item]\n",
    "        else:\n",
    "            print('Item not in ToDo-list!')\n",
    "            \n",
    "    def __len__(self):\n",
    "        return len(self.to_do_list) - sum(self.to_do_list.values())"
   ]
  },
  {
   "cell_type": "code",
   "execution_count": 175,
   "metadata": {},
   "outputs": [
    {
     "data": {
      "text/plain": [
       "{'Waschen': False, 'Essen': False, 'Schlafen': False}"
      ]
     },
     "execution_count": 175,
     "metadata": {},
     "output_type": "execute_result"
    }
   ],
   "source": [
    "my_to_dos = ToDoList()\n",
    "my_to_dos.add_item('Waschen')\n",
    "my_to_dos.add_item('Essen')\n",
    "my_to_dos.add_item('Schlafen')\n",
    "my_to_dos.to_do_list"
   ]
  },
  {
   "cell_type": "code",
   "execution_count": 176,
   "metadata": {},
   "outputs": [
    {
     "data": {
      "text/plain": [
       "3"
      ]
     },
     "execution_count": 176,
     "metadata": {},
     "output_type": "execute_result"
    }
   ],
   "source": [
    "len(my_to_dos)"
   ]
  },
  {
   "cell_type": "code",
   "execution_count": 177,
   "metadata": {},
   "outputs": [
    {
     "data": {
      "text/plain": [
       "{'Waschen': True, 'Essen': False, 'Schlafen': False}"
      ]
     },
     "execution_count": 177,
     "metadata": {},
     "output_type": "execute_result"
    }
   ],
   "source": [
    "my_to_dos.mark_as_done('Waschen')\n",
    "my_to_dos.to_do_list"
   ]
  },
  {
   "cell_type": "code",
   "execution_count": 178,
   "metadata": {},
   "outputs": [
    {
     "data": {
      "text/plain": [
       "True"
      ]
     },
     "execution_count": 178,
     "metadata": {},
     "output_type": "execute_result"
    }
   ],
   "source": [
    "my_to_dos.check_if_done('Waschen')"
   ]
  },
  {
   "cell_type": "code",
   "execution_count": 179,
   "metadata": {},
   "outputs": [
    {
     "data": {
      "text/plain": [
       "False"
      ]
     },
     "execution_count": 179,
     "metadata": {},
     "output_type": "execute_result"
    }
   ],
   "source": [
    "my_to_dos.check_if_done('Essen')"
   ]
  },
  {
   "cell_type": "code",
   "execution_count": 180,
   "metadata": {},
   "outputs": [
    {
     "data": {
      "text/plain": [
       "2"
      ]
     },
     "execution_count": 180,
     "metadata": {},
     "output_type": "execute_result"
    }
   ],
   "source": [
    "len(my_to_dos)"
   ]
  },
  {
   "cell_type": "code",
   "execution_count": 181,
   "metadata": {},
   "outputs": [
    {
     "data": {
      "text/plain": [
       "{'Waschen': True, 'Essen': True, 'Schlafen': False}"
      ]
     },
     "execution_count": 181,
     "metadata": {},
     "output_type": "execute_result"
    }
   ],
   "source": [
    "my_to_dos.mark_as_done('Essen')\n",
    "my_to_dos.to_do_list"
   ]
  },
  {
   "cell_type": "code",
   "execution_count": 182,
   "metadata": {},
   "outputs": [
    {
     "data": {
      "text/plain": [
       "1"
      ]
     },
     "execution_count": 182,
     "metadata": {},
     "output_type": "execute_result"
    }
   ],
   "source": [
    "len(my_to_dos)"
   ]
  },
  {
   "cell_type": "code",
   "execution_count": 183,
   "metadata": {},
   "outputs": [
    {
     "data": {
      "text/plain": [
       "{'Waschen': True, 'Schlafen': False}"
      ]
     },
     "execution_count": 183,
     "metadata": {},
     "output_type": "execute_result"
    }
   ],
   "source": [
    "my_to_dos.remove_item('Essen')\n",
    "my_to_dos.to_do_list"
   ]
  },
  {
   "cell_type": "code",
   "execution_count": 184,
   "metadata": {},
   "outputs": [
    {
     "data": {
      "text/plain": [
       "1"
      ]
     },
     "execution_count": 184,
     "metadata": {},
     "output_type": "execute_result"
    }
   ],
   "source": [
    "len(my_to_dos)"
   ]
  },
  {
   "cell_type": "markdown",
   "metadata": {},
   "source": [
    "### Part 3 - Times Not to Use Classes\n",
    "\n",
    "One thing that should be addressed while you are learning about OOP is that the use of a class is not appropriate for solving every problem. To illustrate this point, consider the following code, and it's test in the main block.\n",
    "\n",
    "```python\n",
    "class BookWordCounter():\n",
    "    def __init__(self, book_path):\n",
    "        self.book_path = book_path\n",
    "        self.has_counted = False\n",
    "        self.num_words = 0\n",
    "\n",
    "    def count_words(self):\n",
    "        with open(self.book_path) as book:\n",
    "            for line in book:\n",
    "                self.num_words += len(line.split())\n",
    "\n",
    "    def num_words_in_book(self):\n",
    "        if not self.has_counted:\n",
    "            self.count_words()\n",
    "        return self.num_words\n",
    "\n",
    "if __name__ == '__main__':\n",
    "    flat_land_counter = BookWordCounter('misc/books/flatland.txt')\n",
    "    print flat_land_counter.num_words_in_book()\n",
    "    programming_lang_counter = BookWordCounter('misc/books/programming_languages.txt')\n",
    "    print programming_lang_counter.num_words_in_book()\n",
    "```\n",
    "\n",
    "Now ask yourself:\n",
    "* Is encapsulation being taken advantage of when using this class? \n",
    "* Is there data that is being stored on the class as an attribute?\n",
    "    * Is it changing? \n",
    "* Does calling methods on the class allow me to interact with that data?\n",
    "* Could this be done with a function???\n",
    "\n",
    "Try writing a function to solve the same problem that the `BookWordCounter` class solves. Consider how you would want to use that function. Feel free to tear apart the code in `BookWordCounter` when you're making your function(s).\n",
    "\n",
    "Once your done, consider the pros and cons of solving this problem with a class vs functions. This is an important consideration to make now that you know about the power of both paradigms."
   ]
  },
  {
   "cell_type": "code",
   "execution_count": 91,
   "metadata": {},
   "outputs": [
    {
     "data": {
      "text/plain": [
       "35100"
      ]
     },
     "execution_count": 91,
     "metadata": {},
     "output_type": "execute_result"
    }
   ],
   "source": [
    "def BookWordCounter(book_path):\n",
    "    num_words = 0\n",
    "    with open(book_path) as book:\n",
    "        for line in book:\n",
    "            num_words += len(line.split())\n",
    "    return num_words\n",
    "\n",
    "BookWordCounter('misc/books/flatland.txt')"
   ]
  },
  {
   "cell_type": "code",
   "execution_count": 92,
   "metadata": {},
   "outputs": [
    {
     "data": {
      "text/plain": [
       "892"
      ]
     },
     "execution_count": 92,
     "metadata": {},
     "output_type": "execute_result"
    }
   ],
   "source": [
    "BookWordCounter('misc/books/programming_languages.txt')"
   ]
  },
  {
   "cell_type": "markdown",
   "metadata": {},
   "source": [
    "### Extra Credit\n",
    "\n",
    "1. What happens if the coworkers that you give your `TipOutTracker` to accidentally make two instances of the class when they are tracking their tips one night. How could you make it so you can add two `TipOutTracker` instances?"
   ]
  },
  {
   "cell_type": "code",
   "execution_count": 140,
   "metadata": {},
   "outputs": [],
   "source": [
    "# Solution to extra question 1:\n",
    "\n",
    "class TipOutTracker():\n",
    "    \n",
    "    def __init__(self, default_tip):\n",
    "        self.bills_n_tips = []\n",
    "        self.default_tip = default_tip\n",
    "        \n",
    "    def add_bill(self, bill, tip = None):\n",
    "        if tip == None:\n",
    "            tip = self.default_tip\n",
    "        self.bills_n_tips.append((bill, tip))\n",
    "        \n",
    "    def total_tip_out(self):\n",
    "        return sum([bill * tip for bill, tip in self.bills_n_tips])\n",
    "    \n",
    "    def combine_trackers(self, other_tracker):\n",
    "        self.bills_n_tips.extend(other_tracker.bills_n_tips)\n",
    "        self.bills_n_tips += other_tracker.bills_n_tips\n",
    "    \n",
    "    def __len__(self):\n",
    "        return len(self.bills_n_tips)"
   ]
  },
  {
   "cell_type": "code",
   "execution_count": 137,
   "metadata": {},
   "outputs": [
    {
     "data": {
      "text/plain": [
       "14.519399999999997"
      ]
     },
     "execution_count": 137,
     "metadata": {},
     "output_type": "execute_result"
    }
   ],
   "source": [
    "tot = TipOutTracker(0.18)\n",
    "tot.add_bill(58.90, 0.15)\n",
    "tot.add_bill(31.58)\n",
    "tot.total_tip_out()"
   ]
  },
  {
   "cell_type": "code",
   "execution_count": 138,
   "metadata": {},
   "outputs": [
    {
     "data": {
      "text/plain": [
       "14.519399999999997"
      ]
     },
     "execution_count": 138,
     "metadata": {},
     "output_type": "execute_result"
    }
   ],
   "source": [
    "tot2 = TipOutTracker(0.18)\n",
    "tot2.add_bill(58.90, 0.15)\n",
    "tot2.add_bill(31.58)\n",
    "tot2.total_tip_out()"
   ]
  },
  {
   "cell_type": "code",
   "execution_count": 139,
   "metadata": {},
   "outputs": [
    {
     "data": {
      "text/plain": [
       "29.0388"
      ]
     },
     "execution_count": 139,
     "metadata": {},
     "output_type": "execute_result"
    }
   ],
   "source": [
    "tot.combine_trackers(tot2)\n",
    "tot.total_tip_out()"
   ]
  },
  {
   "cell_type": "code",
   "execution_count": 103,
   "metadata": {},
   "outputs": [],
   "source": [
    "# Additional: I first understood the question in a wrong way, but here's my\n",
    "           # initial solution to that - I didn't want to delete that :)\n",
    "\n",
    "class TipOutTracker():\n",
    "    \n",
    "    def __init__(self, name1, name2, default_tip):\n",
    "        self.name1 = name1\n",
    "        self.name2 = name2\n",
    "        self.bills_n_tips1 = []\n",
    "        self.bills_n_tips2 = []\n",
    "        self.default_tip = default_tip\n",
    "        \n",
    "    def add_bill(self, name, bill, tip = None):\n",
    "        if tip == None:\n",
    "            tip = self.default_tip\n",
    "        if name == self.name1:\n",
    "            self.bills_n_tips1.append((bill, tip))\n",
    "        elif name == self.name2:\n",
    "            self.bills_n_tips2.append((bill, tip))\n",
    "        \n",
    "    def total_tip_out(self, name):\n",
    "        if name == self.name1:\n",
    "            return sum([bill * tip for bill, tip in self.bills_n_tips1])\n",
    "        elif name == self.name2:\n",
    "            return sum([bill * tip for bill, tip in self.bills_n_tips2])\n",
    "    \n",
    "    def total_len(self, name):\n",
    "        if name == self.name1:\n",
    "            return len(self.bills_n_tips1)\n",
    "        elif name == self.name2:\n",
    "            return len(self.bills_n_tips2)"
   ]
  },
  {
   "cell_type": "code",
   "execution_count": 104,
   "metadata": {},
   "outputs": [
    {
     "data": {
      "text/plain": [
       "10.0"
      ]
     },
     "execution_count": 104,
     "metadata": {},
     "output_type": "execute_result"
    }
   ],
   "source": [
    "our_trackers = TipOutTracker('Bob','Alice',0.18)\n",
    "\n",
    "our_trackers.add_bill('Bob', 80.0, 0.10)\n",
    "our_trackers.add_bill('Bob', 20.0, 0.10)\n",
    "our_trackers.add_bill('Alice', 100.0, 0.10)\n",
    "our_trackers.add_bill('Alice', 100.0, 0.10)\n",
    "\n",
    "our_trackers.total_tip_out('Bob')"
   ]
  },
  {
   "cell_type": "code",
   "execution_count": 105,
   "metadata": {},
   "outputs": [
    {
     "data": {
      "text/plain": [
       "20.0"
      ]
     },
     "execution_count": 105,
     "metadata": {},
     "output_type": "execute_result"
    }
   ],
   "source": [
    "our_trackers.total_tip_out('Alice')"
   ]
  },
  {
   "cell_type": "code",
   "execution_count": 107,
   "metadata": {},
   "outputs": [
    {
     "name": "stdout",
     "output_type": "stream",
     "text": [
      "2\n",
      "2\n"
     ]
    }
   ],
   "source": [
    "print(our_trackers.total_len('Alice'))\n",
    "print(our_trackers.total_len('Bob'))"
   ]
  },
  {
   "cell_type": "markdown",
   "metadata": {},
   "source": [
    "### Extra credit:\n",
    "\n",
    "2. Add a list of completed to-do items to the `ToDoList` class. Then, write a method that moves an item from the to-do list to the completed list when you mark it completed. "
   ]
  },
  {
   "cell_type": "code",
   "execution_count": 226,
   "metadata": {},
   "outputs": [],
   "source": [
    "# Do this with two lists, one for the completed tasks, one for the uncompleted:\n",
    "\n",
    "class ToDoList():\n",
    "    \n",
    "    def __init__(self):\n",
    "        self.to_do_list = []\n",
    "        self.completed_to_do_list = []\n",
    "        \n",
    "    def add_item(self, item):\n",
    "        self.to_do_list.append(item)\n",
    "        \n",
    "    def remove_item(self, item):\n",
    "        if item in self.to_do_list:\n",
    "            self.to_do_list.remove(item)\n",
    "            self.completed_to_do_list.append(item)\n",
    "        else:\n",
    "            print('Item not in ToDo-list!')\n",
    "            \n",
    "    def __len__(self):\n",
    "        return len(self.to_do_list)"
   ]
  },
  {
   "cell_type": "code",
   "execution_count": 109,
   "metadata": {},
   "outputs": [
    {
     "data": {
      "text/plain": [
       "['Waschen', 'Essen', 'Schlafen']"
      ]
     },
     "execution_count": 109,
     "metadata": {},
     "output_type": "execute_result"
    }
   ],
   "source": [
    "my_to_dos = ToDoList()\n",
    "my_to_dos.add_item('Waschen')\n",
    "my_to_dos.add_item('Essen')\n",
    "my_to_dos.add_item('Schlafen')\n",
    "my_to_dos.to_do_list"
   ]
  },
  {
   "cell_type": "code",
   "execution_count": 110,
   "metadata": {},
   "outputs": [
    {
     "data": {
      "text/plain": [
       "3"
      ]
     },
     "execution_count": 110,
     "metadata": {},
     "output_type": "execute_result"
    }
   ],
   "source": [
    "len(my_to_dos)"
   ]
  },
  {
   "cell_type": "code",
   "execution_count": 111,
   "metadata": {},
   "outputs": [
    {
     "data": {
      "text/plain": [
       "['Essen', 'Schlafen']"
      ]
     },
     "execution_count": 111,
     "metadata": {},
     "output_type": "execute_result"
    }
   ],
   "source": [
    "my_to_dos.remove_item('Waschen')\n",
    "my_to_dos.to_do_list"
   ]
  },
  {
   "cell_type": "code",
   "execution_count": 112,
   "metadata": {},
   "outputs": [
    {
     "data": {
      "text/plain": [
       "['Waschen']"
      ]
     },
     "execution_count": 112,
     "metadata": {},
     "output_type": "execute_result"
    }
   ],
   "source": [
    "my_to_dos.completed_to_do_list"
   ]
  },
  {
   "cell_type": "code",
   "execution_count": 113,
   "metadata": {},
   "outputs": [
    {
     "data": {
      "text/plain": [
       "2"
      ]
     },
     "execution_count": 113,
     "metadata": {},
     "output_type": "execute_result"
    }
   ],
   "source": [
    "len(my_to_dos)"
   ]
  },
  {
   "cell_type": "code",
   "execution_count": 114,
   "metadata": {},
   "outputs": [
    {
     "data": {
      "text/plain": [
       "['Waschen', 'Essen']"
      ]
     },
     "execution_count": 114,
     "metadata": {},
     "output_type": "execute_result"
    }
   ],
   "source": [
    "my_to_dos.remove_item('Essen')\n",
    "my_to_dos.completed_to_do_list"
   ]
  },
  {
   "cell_type": "code",
   "execution_count": 115,
   "metadata": {},
   "outputs": [
    {
     "data": {
      "text/plain": [
       "['Schlafen']"
      ]
     },
     "execution_count": 115,
     "metadata": {},
     "output_type": "execute_result"
    }
   ],
   "source": [
    "my_to_dos.to_do_list"
   ]
  },
  {
   "cell_type": "markdown",
   "metadata": {},
   "source": [
    "### Extra credit: \n",
    "\n",
    "3. Print all of your current to-do items in a pretty way when you pass an instance of the `ToDoList`"
   ]
  },
  {
   "cell_type": "code",
   "execution_count": 257,
   "metadata": {},
   "outputs": [],
   "source": [
    "class ToDoList():\n",
    "    \n",
    "    def __init__(self):\n",
    "        self.to_do_list = []\n",
    "        self.completed_to_do_list = []\n",
    "        \n",
    "    def add_item(self, item):\n",
    "        self.to_do_list.append(item)\n",
    "        \n",
    "    def remove_item(self, item):\n",
    "        if item in self.to_do_list:\n",
    "            self.to_do_list.remove(item)\n",
    "            self.completed_to_do_list.append(item)\n",
    "        else:\n",
    "            print('Item not in ToDo-list!')\n",
    "            \n",
    "    def __len__(self):\n",
    "        return len(self.to_do_list)\n",
    "    \n",
    "    def __str__(self):\n",
    "        my_str = \\\n",
    "        '''=================\\nMy ToDo List:\\n=================\\n'''\n",
    "        for idx, item in enumerate(self.to_do_list):\n",
    "            my_str += '{}. {}\\n'.format(idx, item)\n",
    "        return my_str"
   ]
  },
  {
   "cell_type": "code",
   "execution_count": 258,
   "metadata": {},
   "outputs": [
    {
     "data": {
      "text/plain": [
       "['Waschen', 'Essen', 'Schlafen']"
      ]
     },
     "execution_count": 258,
     "metadata": {},
     "output_type": "execute_result"
    }
   ],
   "source": [
    "my_to_dos = ToDoList()\n",
    "my_to_dos.add_item('Waschen')\n",
    "my_to_dos.add_item('Essen')\n",
    "my_to_dos.add_item('Schlafen')\n",
    "my_to_dos.to_do_list"
   ]
  },
  {
   "cell_type": "code",
   "execution_count": 259,
   "metadata": {},
   "outputs": [
    {
     "name": "stdout",
     "output_type": "stream",
     "text": [
      "=================\n",
      "My ToDo List:\n",
      "=================\n",
      "0. Waschen\n",
      "1. Essen\n",
      "2. Schlafen\n",
      "\n"
     ]
    }
   ],
   "source": [
    "print(my_to_dos)"
   ]
  },
  {
   "cell_type": "markdown",
   "metadata": {},
   "source": [
    "### Extra credit: \n",
    "\n",
    "4. Add priority to the to-do list items, and have these priorities change the way your items are displayed."
   ]
  },
  {
   "cell_type": "code",
   "execution_count": 287,
   "metadata": {},
   "outputs": [],
   "source": [
    "# Option 1: priority True/False\n",
    "\n",
    "class ToDoList():\n",
    "    \n",
    "    def __init__(self):\n",
    "        self.to_do_list = {} # key = task, value = (done: True/False, priority: True/False)\n",
    "        \n",
    "    def add_item(self, item, priority):   \n",
    "        self.to_do_list[item] = (False, priority)\n",
    "        \n",
    "    def mark_as_done(self, item):\n",
    "        if item in self.to_do_list:\n",
    "            self.to_do_list[item] = True\n",
    "        else:\n",
    "            print('Item not in ToDo-list!')\n",
    "\n",
    "    def check_if_done(self, item):\n",
    "        if item in self.to_do_list:\n",
    "            done = self.to_do_list[item]\n",
    "            return done\n",
    "        else:\n",
    "            print('Item not in ToDo-list!')\n",
    "        \n",
    "    def remove_item(self, item):\n",
    "        if item in self.to_do_list:\n",
    "            del self.to_do_list[item]\n",
    "        else:\n",
    "            print('Item not in ToDo-list!')\n",
    "            \n",
    "    def __str__(self):\n",
    "        my_str = \\\n",
    "        '''=================\\nMy ToDo List:\\n=================\\n'''\n",
    "        count = 1\n",
    "        for item, value in self.to_do_list.items():\n",
    "            if value[1]:\n",
    "                my_str += '\\033[1m{}. {}\\033[0m\\n'.format(count, item.title())\n",
    "            else:\n",
    "                my_str += '{}. {}\\n'.format(count, item.title())\n",
    "            count +=1           \n",
    "        return my_str\n",
    "            \n",
    "    def __len__(self):\n",
    "        return len(self.to_do_list) - sum(self.to_do_list.values())"
   ]
  },
  {
   "cell_type": "code",
   "execution_count": 288,
   "metadata": {},
   "outputs": [
    {
     "data": {
      "text/plain": [
       "{'Waschen': (False, False), 'Essen': (False, True), 'Schlafen': (False, False)}"
      ]
     },
     "execution_count": 288,
     "metadata": {},
     "output_type": "execute_result"
    }
   ],
   "source": [
    "my_to_dos = ToDoList()\n",
    "my_to_dos.add_item('Waschen', False)\n",
    "my_to_dos.add_item('Essen', True)\n",
    "my_to_dos.add_item('Schlafen', False)\n",
    "my_to_dos.to_do_list"
   ]
  },
  {
   "cell_type": "code",
   "execution_count": 289,
   "metadata": {},
   "outputs": [
    {
     "name": "stdout",
     "output_type": "stream",
     "text": [
      "=================\n",
      "My ToDo List:\n",
      "=================\n",
      "1. Waschen\n",
      "\u001b[1m2. Essen\u001b[0m\n",
      "3. Schlafen\n",
      "\n"
     ]
    }
   ],
   "source": [
    "print(my_to_dos)"
   ]
  },
  {
   "cell_type": "code",
   "execution_count": 290,
   "metadata": {},
   "outputs": [],
   "source": [
    "# Option 2: priority 1 to 5\n",
    "\n",
    "class ToDoList():\n",
    "    \n",
    "    def __init__(self):\n",
    "        self.to_do_list = {} # key = task, value = (done: True/False, priority: 1 to 5)\n",
    "        \n",
    "    def add_item(self, item, priority):   \n",
    "        self.to_do_list[item] = (False, priority)\n",
    "        \n",
    "    def mark_as_done(self, item):\n",
    "        if item in self.to_do_list:\n",
    "            self.to_do_list[item] = True\n",
    "        else:\n",
    "            print('Item not in ToDo-list!')\n",
    "\n",
    "    def check_if_done(self, item):\n",
    "        if item in self.to_do_list:\n",
    "            done = self.to_do_list[item]\n",
    "            return done\n",
    "        else:\n",
    "            print('Item not in ToDo-list!')\n",
    "        \n",
    "    def remove_item(self, item):\n",
    "        if item in self.to_do_list:\n",
    "            del self.to_do_list[item]\n",
    "        else:\n",
    "            print('Item not in ToDo-list!')\n",
    "            \n",
    "    def __str__(self):\n",
    "        sorted_list = sorted(self.to_do_list.items(), key=lambda x: x[1], reverse=True)\n",
    "        my_str = \\\n",
    "        '''=================\\nMy ToDo List:\\n=================\\n'''\n",
    "        count = 1\n",
    "        for item, tup in sorted_list:\n",
    "            my_str += '{}. {} ({})\\n'.format(count, item.title(), tup[1])\n",
    "            count +=1           \n",
    "        return my_str\n",
    "            \n",
    "    def __len__(self):\n",
    "        return len(self.to_do_list) - sum(self.to_do_list.values())"
   ]
  },
  {
   "cell_type": "code",
   "execution_count": 292,
   "metadata": {},
   "outputs": [
    {
     "name": "stdout",
     "output_type": "stream",
     "text": [
      "=================\n",
      "My ToDo List:\n",
      "=================\n",
      "1. Essen (3)\n",
      "2. Schlafen (2)\n",
      "3. Waschen (0)\n",
      "\n"
     ]
    }
   ],
   "source": [
    "my_to_dos = ToDoList()\n",
    "my_to_dos.add_item('Waschen', 0)\n",
    "my_to_dos.add_item('Essen', 3)\n",
    "my_to_dos.add_item('Schlafen', 2)\n",
    "print(my_to_dos)"
   ]
  }
 ],
 "metadata": {
  "kernelspec": {
   "display_name": "Python 3",
   "language": "python",
   "name": "python3"
  },
  "language_info": {
   "codemirror_mode": {
    "name": "ipython",
    "version": 3
   },
   "file_extension": ".py",
   "mimetype": "text/x-python",
   "name": "python",
   "nbconvert_exporter": "python",
   "pygments_lexer": "ipython3",
   "version": "3.6.6"
  }
 },
 "nbformat": 4,
 "nbformat_minor": 2
}
