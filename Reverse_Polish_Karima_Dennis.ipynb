{
 "cells": [
  {
   "cell_type": "code",
   "execution_count": 176,
   "metadata": {},
   "outputs": [],
   "source": [
    "class ReversePolish():\n",
    "    \n",
    "    def __init__(self):\n",
    "        self.stack = []\n",
    "        self.operators = '+-//**%'\n",
    "        \n",
    "        \n",
    "    def add_item(self, item):\n",
    "        if str(item) in self.operators:\n",
    "            if len(self.stack) < 2:\n",
    "                print('Add more numbers before doing an operation')\n",
    "            else:\n",
    "                self.do_operation(item)\n",
    "        else:\n",
    "            self.stack.append(item)\n",
    "            \n",
    "    def remove_last_item(self):\n",
    "        if len(self.stack) > 0:\n",
    "            self.stack.pop()\n",
    "        else:\n",
    "            print('No items in list to remove!')\n",
    "            \n",
    "    def do_operation(self, item):\n",
    "        num2 = self.stack.pop()\n",
    "        num1 = self.stack.pop()\n",
    "        try:\n",
    "            result = eval(str(num1) + item + str(num2))\n",
    "            #print(str(num1) + item + str(num2))\n",
    "            self.stack.append(result)\n",
    "            self.print_stack()\n",
    "        except Exception as e:\n",
    "            print('Your operation is invalid: ', e)\n",
    "            \n",
    "    def print_stack(self):\n",
    "        print(self.stack)"
   ]
  },
  {
   "cell_type": "code",
   "execution_count": 177,
   "metadata": {},
   "outputs": [
    {
     "name": "stdout",
     "output_type": "stream",
     "text": [
      "[5, 6, 7]\n"
     ]
    }
   ],
   "source": [
    "my_RP = ReversePolish()\n",
    "my_RP.add_item(5)\n",
    "my_RP.add_item(6)\n",
    "my_RP.add_item(7)\n",
    "my_RP.print_stack()"
   ]
  },
  {
   "cell_type": "code",
   "execution_count": 178,
   "metadata": {},
   "outputs": [
    {
     "name": "stdout",
     "output_type": "stream",
     "text": [
      "[5]\n"
     ]
    }
   ],
   "source": [
    "my_RP.remove_last_item()\n",
    "my_RP.remove_last_item()\n",
    "my_RP.print_stack()"
   ]
  },
  {
   "cell_type": "code",
   "execution_count": 179,
   "metadata": {},
   "outputs": [
    {
     "name": "stdout",
     "output_type": "stream",
     "text": [
      "Add more numbers before doing an operation\n"
     ]
    }
   ],
   "source": [
    "my_RP.add_item('%')"
   ]
  },
  {
   "cell_type": "code",
   "execution_count": 180,
   "metadata": {},
   "outputs": [
    {
     "name": "stdout",
     "output_type": "stream",
     "text": [
      "[5, 5, 0]\n"
     ]
    }
   ],
   "source": [
    "my_RP.add_item(5)\n",
    "my_RP.add_item(0)\n",
    "my_RP.print_stack()"
   ]
  },
  {
   "cell_type": "code",
   "execution_count": 181,
   "metadata": {},
   "outputs": [
    {
     "name": "stdout",
     "output_type": "stream",
     "text": [
      "Your operation is invalid:  division by zero\n"
     ]
    }
   ],
   "source": [
    "my_RP.add_item('/')"
   ]
  },
  {
   "cell_type": "code",
   "execution_count": 182,
   "metadata": {},
   "outputs": [
    {
     "name": "stdout",
     "output_type": "stream",
     "text": [
      "[5, 10, 20]\n"
     ]
    }
   ],
   "source": [
    "my_RP.add_item(10)\n",
    "my_RP.add_item(20)\n",
    "my_RP.print_stack()"
   ]
  },
  {
   "cell_type": "code",
   "execution_count": 183,
   "metadata": {},
   "outputs": [
    {
     "name": "stdout",
     "output_type": "stream",
     "text": [
      "[5, 10, 20]\n",
      "[5, 10]\n"
     ]
    }
   ],
   "source": [
    "my_RP.print_stack()\n",
    "my_RP.add_item('%')"
   ]
  },
  {
   "cell_type": "code",
   "execution_count": 184,
   "metadata": {},
   "outputs": [
    {
     "name": "stdout",
     "output_type": "stream",
     "text": [
      "[15]\n"
     ]
    }
   ],
   "source": [
    "my_RP.add_item('+')"
   ]
  },
  {
   "cell_type": "code",
   "execution_count": 185,
   "metadata": {},
   "outputs": [
    {
     "ename": "IndexError",
     "evalue": "pop from empty list",
     "output_type": "error",
     "traceback": [
      "\u001b[0;31m---------------------------------------------------------------------------\u001b[0m",
      "\u001b[0;31mIndexError\u001b[0m                                Traceback (most recent call last)",
      "\u001b[0;32m<ipython-input-185-d721a184e5bb>\u001b[0m in \u001b[0;36m<module>\u001b[0;34m()\u001b[0m\n\u001b[1;32m      1\u001b[0m \u001b[0mL\u001b[0m \u001b[0;34m=\u001b[0m \u001b[0;34m[\u001b[0m\u001b[0;34m]\u001b[0m\u001b[0;34m\u001b[0m\u001b[0m\n\u001b[0;32m----> 2\u001b[0;31m \u001b[0mL\u001b[0m\u001b[0;34m.\u001b[0m\u001b[0mpop\u001b[0m\u001b[0;34m(\u001b[0m\u001b[0;34m)\u001b[0m\u001b[0;34m\u001b[0m\u001b[0m\n\u001b[0m",
      "\u001b[0;31mIndexError\u001b[0m: pop from empty list"
     ]
    }
   ],
   "source": [
    "L = []\n",
    "L.pop()"
   ]
  }
 ],
 "metadata": {
  "kernelspec": {
   "display_name": "Python 3",
   "language": "python",
   "name": "python3"
  },
  "language_info": {
   "codemirror_mode": {
    "name": "ipython",
    "version": 3
   },
   "file_extension": ".py",
   "mimetype": "text/x-python",
   "name": "python",
   "nbconvert_exporter": "python",
   "pygments_lexer": "ipython3",
   "version": "3.6.6"
  }
 },
 "nbformat": 4,
 "nbformat_minor": 2
}
